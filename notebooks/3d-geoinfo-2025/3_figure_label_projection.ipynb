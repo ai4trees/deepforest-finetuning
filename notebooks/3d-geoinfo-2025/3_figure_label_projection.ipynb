{
 "cells": [
  {
   "cell_type": "markdown",
   "metadata": {},
   "source": [
    "### Fig. 2: Label Projection from 3D Point Clouds"
   ]
  },
  {
   "cell_type": "code",
   "execution_count": null,
   "metadata": {},
   "outputs": [],
   "source": [
    "from pathlib import Path\n",
    "\n",
    "import numpy as np\n",
    "from PIL import Image\n",
    "import rasterio"
   ]
  },
  {
   "cell_type": "code",
   "execution_count": null,
   "metadata": {},
   "outputs": [],
   "source": [
    "color_palette = [\n",
    "    [209, 64, 129, 255],  # other purple\n",
    "    [128, 255, 144, 255],  # light green\n",
    "    [219, 254, 135, 255],  # mindaro\n",
    "    [62, 137, 20, 255],  # inida green\n",
    "    [255, 252, 49, 255],  # yellow\n",
    "    [140, 192, 132, 255],  # dark sea green # [245, 93, 62, 255],  # orange\n",
    "    [105, 116, 124, 255],  # slate gray\n",
    "    [19, 70, 17, 255],  # forest green\n",
    "    [125, 97, 103, 255],  # deep taube\n",
    "    [255, 180, 0, 255],  # yellow\n",
    "    [6, 167, 125, 255],  # green\n",
    "    [129, 164, 205, 255],  # iceberg\n",
    "    [75, 29, 63, 255],  # purple\n",
    "    [247, 197, 72, 255],  # mayze crayola\n",
    "    [62, 124, 177, 255],  # steel blue\n",
    "    [102, 99, 112, 255],  # burnished brown\n",
    "    [117, 92, 27, 255],  # field drab\n",
    "    [115, 191, 184, 255],  # turquoise\n",
    "    [73, 67, 49, 255],  # olive drab\n",
    "    [163, 0, 0, 255],  # rufous\n",
    "    [163, 147, 191, 255],  # glossy grape\n",
    "    [111, 115, 210, 255],  # violet blue crayola\n",
    "    [179, 106, 94, 255],  # copper penny\n",
    "    [0, 178, 202, 255],  # pacific blue\n",
    "    [118, 117, 34, 255],  # spanish bistre\n",
    "    [238, 215, 197, 255],  # champagne pink\n",
    "    [86, 53, 30, 255],  # van dyke brown\n",
    "]"
   ]
  },
  {
   "cell_type": "markdown",
   "metadata": {},
   "source": [
    "#### Visualize label image"
   ]
  },
  {
   "cell_type": "code",
   "execution_count": null,
   "metadata": {},
   "outputs": [],
   "source": [
    "base_dir = Path(\"G:/3D-GeoInfo-2025/data/\")\n",
    "image_path = base_dir / \"1_base_data/labels/automatic_labeling/s1_p1_small_labels.tif\"\n",
    "\n",
    "with rasterio.open(image_path) as image:\n",
    "    image_array = image.read()\n",
    "\n",
    "rgb_image_array = np.full((image_array.shape[1], image_array.shape[2], 3), fill_value=240, dtype=np.uint8)\n",
    "\n",
    "for idx, instance_id in enumerate(np.unique(image_array)):\n",
    "    if instance_id == 0:\n",
    "        continue\n",
    "    instance_mask = (image_array == instance_id).reshape((image_array.shape[1], image_array.shape[2]))\n",
    "    color = color_palette[idx % len(color_palette)]\n",
    "    rgb_image_array[instance_mask] = color[:3]\n",
    "\n",
    "image = Image.fromarray(rgb_image_array, mode=\"RGB\")\n",
    "image.save(\"./label_projection.png\")"
   ]
  },
  {
   "cell_type": "markdown",
   "metadata": {},
   "source": [
    "#### Colorize point cloud"
   ]
  },
  {
   "cell_type": "code",
   "execution_count": null,
   "metadata": {},
   "outputs": [],
   "source": [
    "from pointtorch import read\n",
    "from pointtorch.operations.numpy import make_labels_consecutive\n",
    "\n",
    "point_cloud_path = base_dir / \"1_base_data/point_clouds/s1_p1_small.laz\"\n",
    "point_cloud = read(point_cloud_path)\n",
    "instance_ids = make_labels_consecutive(point_cloud[\"instance_id_prediction\"].to_numpy(), ignore_id=0)\n",
    "\n",
    "point_cloud[\"red\"] = 240\n",
    "point_cloud[\"green\"] = 240\n",
    "point_cloud[\"blue\"] = 240\n",
    "\n",
    "for idx, instance_id in enumerate(np.unique(instance_ids)):\n",
    "    if instance_id == 0:\n",
    "        continue\n",
    "    instance_mask = instance_ids == instance_id\n",
    "    color = color_palette[idx % len(color_palette)]\n",
    "    point_cloud.loc[instance_mask, [\"red\", \"green\", \"blue\"]] = np.array(color)[:3]\n",
    "\n",
    "point_cloud.to(\"./point_cloud_colored.laz\")"
   ]
  }
 ],
 "metadata": {
  "kernelspec": {
   "display_name": "deepforest-env",
   "language": "python",
   "name": "python3"
  },
  "language_info": {
   "codemirror_mode": {
    "name": "ipython",
    "version": 3
   },
   "file_extension": ".py",
   "mimetype": "text/x-python",
   "name": "python",
   "nbconvert_exporter": "python",
   "pygments_lexer": "ipython3",
   "version": "3.12.10"
  }
 },
 "nbformat": 4,
 "nbformat_minor": 2
}
