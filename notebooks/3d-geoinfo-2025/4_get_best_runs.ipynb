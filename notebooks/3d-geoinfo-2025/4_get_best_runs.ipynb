{
 "cells": [
  {
   "cell_type": "code",
   "execution_count": null,
   "id": "b13901d6",
   "metadata": {},
   "outputs": [],
   "source": [
    "import pandas as pd"
   ]
  },
  {
   "cell_type": "markdown",
   "id": "383e48fa",
   "metadata": {},
   "source": [
    "### Retrieve best run from each experiment"
   ]
  },
  {
   "cell_type": "code",
   "execution_count": 8,
   "id": "c4790f06",
   "metadata": {},
   "outputs": [
    {
     "name": "stdout",
     "output_type": "stream",
     "text": [
      "manual_labeling small\n",
      "Best run: epoch 9, seed 2.0\n",
      "manual_correction small\n",
      "Best run: epoch 6, seed 0.0\n",
      "automatic_labeling small\n",
      "Best run: epoch 9, seed 4.0\n",
      "manual_labeling ext\n",
      "Best run: epoch 7, seed 0.0\n",
      "manual_correction ext\n",
      "Best run: epoch 9, seed 0.0\n",
      "automatic_labeling ext\n",
      "Best run: epoch 8, seed 1.0\n"
     ]
    }
   ],
   "source": [
    "for training_set in [\"small\", \"ext\"]:\n",
    "    for labeling_approach in [\"manual_labeling\", \"manual_correction\", \"automatic_labeling\"]:\n",
    "        print(labeling_approach, training_set)\n",
    "        best_f1_score = 0\n",
    "        best_epoch = None\n",
    "        best_seed = None\n",
    "        for epoch in range(10):\n",
    "            data = pd.read_csv(f\"G:/3D-GeoInfo-2025/data/5_evaluation/2_5_cm_{labeling_approach}_{training_set}_{epoch + 1}_epochs_boxplot.csv\")\n",
    "            for idx, row in data.iterrows():\n",
    "                if row[\"TestFScore\"] > best_f1_score:\n",
    "                    best_f1_score = row[\"TestFScore\"]\n",
    "                    best_epoch = epoch\n",
    "                    best_seed = row[\"Seed\"]\n",
    "\n",
    "        print(f\"Best run: epoch {best_epoch}, seed {best_seed}\")"
   ]
  }
 ],
 "metadata": {
  "kernelspec": {
   "display_name": "deepforest-env",
   "language": "python",
   "name": "python3"
  },
  "language_info": {
   "codemirror_mode": {
    "name": "ipython",
    "version": 3
   },
   "file_extension": ".py",
   "mimetype": "text/x-python",
   "name": "python",
   "nbconvert_exporter": "python",
   "pygments_lexer": "ipython3",
   "version": "3.12.10"
  }
 },
 "nbformat": 4,
 "nbformat_minor": 5
}
